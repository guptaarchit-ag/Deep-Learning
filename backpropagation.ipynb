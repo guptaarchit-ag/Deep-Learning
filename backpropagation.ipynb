{
 "cells": [
  {
   "cell_type": "code",
   "execution_count": 2,
   "metadata": {},
   "outputs": [],
   "source": [
    "### IMPLEMENTATION OF BACKPROPAGAION IN TENSORFLOW \n",
    "\n",
    "# Reference : https://stackoverflow.com/questions/44210561/how-do-backpropagation-works-in-tensorflow\n",
    "# How does backpropagation work in tensorflow?\n",
    "import os\n",
    "os.chdir('C:/Users/gupta/Desktop/DeepLearning/tutorials')"
   ]
  },
  {
   "cell_type": "code",
   "execution_count": 2,
   "metadata": {},
   "outputs": [],
   "source": [
    "import tensorflow as tf"
   ]
  },
  {
   "cell_type": "code",
   "execution_count": 3,
   "metadata": {},
   "outputs": [],
   "source": [
    "### constant data \n",
    "x =[[0.,0.],[1.,1.],[1.,0.],[0.,1.]]\n",
    "y_ = [[0.],[0.],[1.],[1.]]"
   ]
  },
  {
   "cell_type": "code",
   "execution_count": 9,
   "metadata": {},
   "outputs": [],
   "source": [
    "### induction\n",
    "# 1x2 input -> 2x3 hidden sigmoid -> 3x1 sigmoid output\n",
    "\n",
    "# Layer 0 = the x2 input\n",
    "x0 = tf.constant(x, dtype = tf.float32)\n",
    "y0 = tf.constant(y_, dtype = tf.float32)"
   ]
  },
  {
   "cell_type": "code",
   "execution_count": 10,
   "metadata": {},
   "outputs": [
    {
     "name": "stdout",
     "output_type": "stream",
     "text": [
      "WARNING:tensorflow:From C:\\Users\\gupta\\Anaconda3\\envs\\keras1\\lib\\site-packages\\tensorflow\\python\\framework\\op_def_library.py:263: colocate_with (from tensorflow.python.framework.ops) is deprecated and will be removed in a future version.\n",
      "Instructions for updating:\n",
      "Colocations handled automatically by placer.\n"
     ]
    }
   ],
   "source": [
    "# Layer 1 = the 2x3 hidden sigmoid\n",
    "m1 = tf.Variable(tf.random_uniform([2,3],minval = 0.1, maxval = 0.9, dtype = tf.float32))\n",
    "b1 = tf.Variable(tf.random_uniform([3], minval = 0.1, maxval = 0.9, dtype = tf.float32))\n",
    "h1 = tf.sigmoid(tf.matmul(x0,m1) + b1)"
   ]
  },
  {
   "cell_type": "code",
   "execution_count": 12,
   "metadata": {},
   "outputs": [],
   "source": [
    "# Layer 2 = the 3x1 sigmoid output\n",
    "m2 = tf.Variable(tf.random_uniform([3,1],minval = 0.1, maxval = 0.9, dtype = tf.float32))\n",
    "b2 = tf.Variable(tf.random_uniform([1],minval = 0.1, maxval = 0.9, dtype = tf.float32))\n",
    "y_out = tf.sigmoid(tf.matmul(h1, m2)+b2)"
   ]
  },
  {
   "cell_type": "code",
   "execution_count": 13,
   "metadata": {},
   "outputs": [],
   "source": [
    "### loss \n",
    "# loss: sum of squares y_ - y_out\n",
    "loss = tf.reduce_sum(tf.square(y0 - y_out))"
   ]
  },
  {
   "cell_type": "code",
   "execution_count": 14,
   "metadata": {},
   "outputs": [],
   "source": [
    "# training step: gradient descent (1.0) to minimize loss\n",
    "train = tf.train.GradientDescentOptimizer(1.0).minimize(loss)"
   ]
  },
  {
   "cell_type": "code",
   "execution_count": 19,
   "metadata": {},
   "outputs": [
    {
     "name": "stdout",
     "output_type": "stream",
     "text": [
      "\n",
      "m1\n",
      "[[2.7236252 5.965839  2.273778 ]\n",
      " [2.604435  6.0192814 2.4111016]]\n",
      "\n",
      "b1\n",
      "[-4.165486  -2.6090508 -3.6792357]\n",
      "\n",
      "m2\n",
      "[[-5.6930337]\n",
      " [ 8.323483 ]\n",
      " [-5.125822 ]]\n",
      "\n",
      "b2\n",
      "[-3.0668209]\n",
      "\n",
      "y_out\n",
      "[[0.06242108]\n",
      " [0.05551672]\n",
      " [0.94674855]\n",
      " [0.9467113 ]]\n",
      "\n",
      "loss\n",
      "0.012653899\n",
      "\n"
     ]
    }
   ],
   "source": [
    "### training \n",
    "# run 500 times using all of X and Y\n",
    "# print out loss and other interesting info\n",
    "with tf.Session() as sess:\n",
    "    sess.run(tf.global_variables_initializer())\n",
    "    for step in range(500):\n",
    "        sess.run(train)\n",
    "    \n",
    "    results = sess.run([m1,b1,m2,b2,y_out,loss])\n",
    "    labels = \"m1,b1,m2,b2,y_out,loss\".split(\",\")\n",
    "    for label, result in zip(*(labels,results)):\n",
    "        print(\"\")\n",
    "        print(label)\n",
    "        print(result)\n",
    "        \n",
    "print(\"\")"
   ]
  },
  {
   "cell_type": "code",
   "execution_count": 3,
   "metadata": {},
   "outputs": [],
   "source": [
    "os.chdir('C:/Users/gupta/Desktop/Case Study/kaggle/wheatSeeds')"
   ]
  },
  {
   "cell_type": "code",
   "execution_count": 4,
   "metadata": {},
   "outputs": [],
   "source": [
    "### IMPLEMENTATION OF BACKPROPAGAION WITHOUT FANCY LIBRARIES\n",
    "# reference: https://machinelearningmastery.com/implement-backpropagation-algorithm-scratch-python/"
   ]
  },
  {
   "cell_type": "code",
   "execution_count": 21,
   "metadata": {},
   "outputs": [],
   "source": [
    "# Create a new neural network ready for training. \n",
    "# Initialize a network \n",
    "from random import random\n",
    "from random import seed\n",
    "\n",
    "def initialize_network(n_inputs, n_hidden, n_outputs):\n",
    "    network = list()\n",
    "    hidden_layer = [{'weights':[random() for i in range(n_inputs+1)]} for i in range(n_hidden)]\n",
    "    network.append(hidden_layer)\n",
    "    output_layer = [{'weights':[random() for i in range(n_hidden+1)]} for i in range(n_outputs)]\n",
    "    network.append(output_layer)\n",
    "    return network"
   ]
  },
  {
   "cell_type": "code",
   "execution_count": 22,
   "metadata": {},
   "outputs": [
    {
     "name": "stdout",
     "output_type": "stream",
     "text": [
      "[{'weights': [0.13436424411240122, 0.8474337369372327, 0.763774618976614]}]\n",
      "[{'weights': [0.2550690257394217, 0.49543508709194095]}, {'weights': [0.4494910647887381, 0.651592972722763]}]\n"
     ]
    }
   ],
   "source": [
    "seed(1)\n",
    "net = initialize_network(2,1,2)\n",
    "for layer in net:\n",
    "    print(layer)"
   ]
  },
  {
   "cell_type": "code",
   "execution_count": 23,
   "metadata": {},
   "outputs": [
    {
     "data": {
      "text/plain": [
       "[[{'weights': [0.13436424411240122, 0.8474337369372327, 0.763774618976614]}],\n",
       " [{'weights': [0.2550690257394217, 0.49543508709194095]},\n",
       "  {'weights': [0.4494910647887381, 0.651592972722763]}]]"
      ]
     },
     "execution_count": 23,
     "metadata": {},
     "output_type": "execute_result"
    }
   ],
   "source": [
    "net"
   ]
  },
  {
   "cell_type": "code",
   "execution_count": 7,
   "metadata": {},
   "outputs": [],
   "source": [
    "#net2 = initialize_network(4,3,2)\n",
    "#for layer in net2:\n",
    "#   print(layer)"
   ]
  },
  {
   "cell_type": "code",
   "execution_count": 8,
   "metadata": {},
   "outputs": [],
   "source": [
    "def activate(weights, inputs):\n",
    "    activation = weights[-1]\n",
    "    for i in range(len(weights)-1):\n",
    "        activation += weights[i]*inputs[i]\n",
    "    return activation"
   ]
  },
  {
   "cell_type": "code",
   "execution_count": 9,
   "metadata": {},
   "outputs": [
    {
     "data": {
      "text/plain": [
       "0.8981388630890152"
      ]
     },
     "execution_count": 9,
     "metadata": {},
     "output_type": "execute_result"
    }
   ],
   "source": [
    "activate([0.13436424411240122, 0.8474337369372327, 0.763774618976614],[1,0, None])"
   ]
  },
  {
   "cell_type": "code",
   "execution_count": 10,
   "metadata": {},
   "outputs": [],
   "source": [
    "from math import exp\n",
    "# Transfer neuron activation \n",
    "def transfer(activation):\n",
    "    return 1.0/(1.0 + exp(-activation))"
   ]
  },
  {
   "cell_type": "code",
   "execution_count": 24,
   "metadata": {},
   "outputs": [],
   "source": [
    "# Forward propagation \n",
    "def forward_propagate(network, row):\n",
    "    inputs = row\n",
    "    for layer in network:\n",
    "        new_inputs = []\n",
    "        for neuron in layer :\n",
    "            activation = activate(neuron['weights'],inputs)\n",
    "            neuron['output'] = transfer(activation)\n",
    "            new_inputs.append(neuron['output'])\n",
    "        inputs = new_inputs\n",
    "    return inputs"
   ]
  },
  {
   "cell_type": "code",
   "execution_count": 31,
   "metadata": {},
   "outputs": [
    {
     "data": {
      "text/plain": [
       "[[{'weights': [0.13436424411240122, 0.8474337369372327, 0.763774618976614],\n",
       "   'output': 0.7105668883115941}],\n",
       " [{'weights': [0.2550690257394217, 0.49543508709194095],\n",
       "   'output': 0.6629970129852887},\n",
       "  {'weights': [0.4494910647887381, 0.651592972722763],\n",
       "   'output': 0.7253160725279748}]]"
      ]
     },
     "execution_count": 31,
     "metadata": {},
     "output_type": "execute_result"
    }
   ],
   "source": [
    "# testing forward propagation\n",
    "net"
   ]
  },
  {
   "cell_type": "code",
   "execution_count": 26,
   "metadata": {},
   "outputs": [
    {
     "name": "stdout",
     "output_type": "stream",
     "text": [
      "[0.6629970129852887, 0.7253160725279748]\n"
     ]
    }
   ],
   "source": [
    "row = [1,0, None]\n",
    "output = forward_propagate(net, row)\n",
    "print(output)"
   ]
  },
  {
   "cell_type": "code",
   "execution_count": 27,
   "metadata": {},
   "outputs": [],
   "source": [
    "### Summary \n",
    "# In the above code, when you call forward_propagate following happens:\n",
    "#  a) Starting with first hidden layer\n",
    "#    i) neuron 1 : \n",
    "#        activation = sum of bias + ( weights * input)\n",
    "#        transfer will give you sigmoid of activation\n",
    "#    Same thing if there are more neurons in this layer, and then\n",
    "#    new_inputs becomes the list of values that will be fed to next layer\n",
    "# b) Starting with next hidden or output layer we apply the same process in recursion. "
   ]
  },
  {
   "cell_type": "code",
   "execution_count": 28,
   "metadata": {},
   "outputs": [],
   "source": [
    "def transfer_derivative(output):\n",
    "    return output*(1.0-output)"
   ]
  },
  {
   "cell_type": "code",
   "execution_count": 29,
   "metadata": {},
   "outputs": [],
   "source": [
    "# Back propagation\n",
    "def back_propagate_error(network, expected):\n",
    "    for i in reversed(range(len(network))):\n",
    "        layer = network[i]\n",
    "        errors = list()\n",
    "        # hidden layer\n",
    "        if i!= len(network)-1: # i.e. for i not in output layer \n",
    "            for j in range(len(layer)):\n",
    "                error = 0.0\n",
    "                for neuron in network[i+1]:\n",
    "                    error += (neuron['weights'][j] * neuron['delta'])\n",
    "                errors.append(error)\n",
    "        # output layer\n",
    "        else:\n",
    "            for j in range(len(layer)):\n",
    "                neuron = layer[j]\n",
    "                errors.append(expected[j]-neuron['output'])\n",
    "        for j in range(len(layer)):\n",
    "            neuron = layer[j]\n",
    "            neuron['delta'] = errors[j]*transfer_derivative(neuron['output'])               "
   ]
  },
  {
   "cell_type": "code",
   "execution_count": 32,
   "metadata": {},
   "outputs": [],
   "source": [
    "expected = [0,1]"
   ]
  },
  {
   "cell_type": "code",
   "execution_count": 34,
   "metadata": {},
   "outputs": [],
   "source": [
    "back_propagate_error(net,expected)"
   ]
  },
  {
   "cell_type": "code",
   "execution_count": 36,
   "metadata": {},
   "outputs": [
    {
     "name": "stdout",
     "output_type": "stream",
     "text": [
      "[{'weights': [0.13436424411240122, 0.8474337369372327, 0.763774618976614], 'output': 0.7105668883115941, 'delta': -0.002711797799238243}]\n",
      "[{'weights': [0.2550690257394217, 0.49543508709194095], 'output': 0.6629970129852887, 'delta': -0.14813473120687762}, {'weights': [0.4494910647887381, 0.651592972722763], 'output': 0.7253160725279748, 'delta': 0.05472601157879688}]\n"
     ]
    }
   ],
   "source": [
    "for layer in net:\n",
    "    print(layer)"
   ]
  },
  {
   "cell_type": "code",
   "execution_count": null,
   "metadata": {},
   "outputs": [],
   "source": []
  }
 ],
 "metadata": {
  "kernelspec": {
   "display_name": "Python 3",
   "language": "python",
   "name": "python3"
  },
  "language_info": {
   "codemirror_mode": {
    "name": "ipython",
    "version": 3
   },
   "file_extension": ".py",
   "mimetype": "text/x-python",
   "name": "python",
   "nbconvert_exporter": "python",
   "pygments_lexer": "ipython3",
   "version": "3.7.3"
  }
 },
 "nbformat": 4,
 "nbformat_minor": 2
}
